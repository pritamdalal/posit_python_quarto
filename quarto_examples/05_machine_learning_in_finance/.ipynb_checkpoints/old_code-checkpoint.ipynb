{
 "cells": [
  {
   "cell_type": "markdown",
   "metadata": {},
   "source": [
    "## Regression - The Basic Framework\n",
    "Let $Y$ be a quantitative label and let $X = (X_1, \\ldots X_p)$ be features which we believe are predictive of $Y$. We assume there is some functional relationship between $X$ and $Y$, where\n",
    "\n",
    "\\begin{align*}\n",
    "Y = f(X) + \\epsilon\n",
    "\\end{align*}\n",
    "\n",
    "and we have that $\\epsilon$ is random error that is independent of $X$ and has mean zero.\n",
    "\n",
    "So, $f$ represents the systematic information that $X$ provides about $Y$.  \n",
    "\n",
    "*Statistical learning* refers to various of approaches for estimating $f$.\n",
    "\n",
    "The estimated function is denoted as $\\hat{f}$ in order to distinguish it from the (unknown) actual relationship function $f$."
   ]
  },
  {
   "cell_type": "markdown",
   "metadata": {},
   "source": [
    "## Estimating $\\hat{f}$ by a Learning Algorithm (1 of 2)\n",
    "\n",
    "Suppose we have a set of observed training data consisting of both inputs and outputs:\n",
    "\n",
    "\\begin{align*}\n",
    "\\{(x_1, y_1), \\ldots, (x_n, y_n)\\}.\n",
    "\\end{align*}\n",
    "\n",
    "\n",
    "\n",
    "Our goal is to apply statistical learning methods to our training data to estimate:\n",
    "\n",
    "\\begin{align*}\n",
    "\\hat{f}(X) = Y.\n",
    "\\end{align*}"
   ]
  },
  {
   "cell_type": "markdown",
   "metadata": {},
   "source": [
    "## Estimating $\\hat{f}$ by a Learning Algorithm (2 of 2)\n",
    "To do this, the the observed inputs are fed into a learning algorithm, an artificial system that usually takes the form of a computer program.  The learning algorithm produces output $\\hat{f}(x_i)$ associated with the observed input $x_i$.\n",
    "\n",
    "\n",
    "The learning algorithm can modify $\\hat{f}$ in response to the differences $y_{i} - \\hat{f}(x_i)$.  Once the learning process is complete, the hope is that the artificial and real outputs are close enough so that $\\hat{f}$ is a good predictor for all inputs that would be encountered in practice."
   ]
  },
  {
   "cell_type": "markdown",
   "metadata": {},
   "source": [
    "## Alternative Data Attributes\n",
    "\n",
    "![](images/alternative_data_attributes.png)"
   ]
  },
  {
   "cell_type": "markdown",
   "metadata": {},
   "source": [
    "## Hello, There\n",
    "\n",
    "This presentation will show you examples of what you can do with Quarto and [Reveal.js](https://revealjs.com), including:\n",
    "\n",
    "-   Presenting code and LaTeX equations\n",
    "-   Including computations in slide output\n",
    "-   Image, video, and iframe backgrounds\n",
    "-   Fancy transitions and animations\n",
    "-   Printing to PDF\n",
    "\n",
    "...and much more"
   ]
  },
  {
   "cell_type": "markdown",
   "metadata": {},
   "source": [
    "## Pretty Code {auto-animate=\"true\"}\n",
    "\n",
    "-   Over 20 syntax highlighting themes available\n",
    "-   Default theme optimized for accessibility"
   ]
  },
  {
   "cell_type": "raw",
   "metadata": {},
   "source": [
    "``` r\n",
    "# Define a server for the Shiny app\n",
    "function(input, output) {\n",
    "  \n",
    "  # Fill in the spot we created for a plot\n",
    "  output$phonePlot <- renderPlot({\n",
    "    # Render a barplot\n",
    "  })\n",
    "}\n",
    "```"
   ]
  },
  {
   "cell_type": "markdown",
   "metadata": {},
   "source": [
    "A python example. "
   ]
  },
  {
   "cell_type": "code",
   "execution_count": null,
   "metadata": {},
   "outputs": [],
   "source": [
    "# ``` python\n",
    "# import pandas_datareader as pdr\n",
    "\n",
    "# df_spy = pdr.get_data_yahoo('SPY')\n",
    "# df_spy\n",
    "# ```"
   ]
  },
  {
   "cell_type": "markdown",
   "metadata": {},
   "source": [
    "<!---\n",
    "-   Content authored with markdown\n",
    "-   Output from executable code\n",
    "--->"
   ]
  },
  {
   "cell_type": "raw",
   "metadata": {},
   "source": [
    "::: footer\n",
    "Learn more: [Syntax Highlighting](https://quarto.org/docs/output-formats/html-code.html#highlighting)\n",
    ":::"
   ]
  },
  {
   "cell_type": "markdown",
   "metadata": {},
   "source": [
    "## Code Animations {auto-animate=\"true\"}\n",
    "\n",
    "-   Over 20 syntax highlighting themes available\n",
    "-   Default theme optimized for accessibility"
   ]
  },
  {
   "cell_type": "raw",
   "metadata": {},
   "source": [
    "``` r\n",
    "# Define a server for the Shiny app\n",
    "function(input, output) {\n",
    "  \n",
    "  # Fill in the spot we created for a plot\n",
    "  output$phonePlot <- renderPlot({\n",
    "    # Render a barplot\n",
    "    barplot(WorldPhones[,input$region]*1000, \n",
    "            main=input$region,\n",
    "            ylab=\"Number of Telephones\",\n",
    "            xlab=\"Year\")\n",
    "  })\n",
    "}\n",
    "```"
   ]
  },
  {
   "cell_type": "markdown",
   "metadata": {},
   "source": [
    "## LaTeX Equations"
   ]
  },
  {
   "cell_type": "markdown",
   "metadata": {},
   "source": [
    "[MathJax](https://www.mathjax.org/) rendering of equations to HTML"
   ]
  },
  {
   "cell_type": "raw",
   "metadata": {},
   "source": [
    "::: columns\n",
    "::: {.column width=\"40%\"}\n",
    "``` tex\n",
    "\\begin{gather*}\n",
    "a_1=b_1+c_1\\\\\n",
    "a_2=b_2+c_2-d_2+e_2\n",
    "\\end{gather*}\n",
    "\\begin{align}\n",
    "a_{11}& =b_{11}&\n",
    "  a_{12}& =b_{12}\\\\\n",
    "a_{21}& =b_{21}&\n",
    "  a_{22}& =b_{22}+c_{22}\n",
    "\\end{align}\n",
    "```\n",
    ":::\n",
    "\n",
    "::: {.column width=\"60%\"}\n",
    "```{=tex}\n",
    "\\begin{gather*}\n",
    "a_1=b_1+c_1\\\\\n",
    "a_2=b_2+c_2-d_2+e_2\n",
    "\\end{gather*}\n",
    "```\n",
    "```{=tex}\n",
    "\\begin{align}\n",
    "a_{11}& =b_{11}&\n",
    "  a_{12}& =b_{12}\\\\\n",
    "a_{21}& =b_{21}&\n",
    "  a_{22}& =b_{22}+c_{22}\n",
    "\\end{align}\n",
    "```\n",
    ":::\n",
    ":::"
   ]
  },
  {
   "cell_type": "raw",
   "metadata": {},
   "source": [
    "---\n",
    "title: \"Machine Learning in Finance\"\n",
    "author: \"Pritam Dalal, RStudio PBC\"\n",
    "format:\n",
    "  revealjs: \n",
    "    slide-number: true\n",
    "    chalkboard: \n",
    "      buttons: false\n",
    "    preview-links: auto\n",
    "    logo: images/rstudio_logo.png\n",
    "    css: styles.css\n",
    "jupyter: python3\n",
    "---"
   ]
  }
 ],
 "metadata": {
  "kernelspec": {
   "display_name": "Python 3",
   "language": "python",
   "name": "python3"
  },
  "language_info": {
   "codemirror_mode": {
    "name": "ipython",
    "version": 3
   },
   "file_extension": ".py",
   "mimetype": "text/x-python",
   "name": "python",
   "nbconvert_exporter": "python",
   "pygments_lexer": "ipython3",
   "version": "3.8.10"
  }
 },
 "nbformat": 4,
 "nbformat_minor": 4
}
